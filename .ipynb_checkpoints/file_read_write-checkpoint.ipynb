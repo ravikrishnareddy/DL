{
 "cells": [
  {
   "cell_type": "code",
   "execution_count": 14,
   "id": "29603bea-ade0-4326-bcb5-4cccf88333a5",
   "metadata": {},
   "outputs": [],
   "source": [
    "from openpyxl import Workbook"
   ]
  },
  {
   "cell_type": "code",
   "execution_count": 20,
   "id": "5a62c420-9a0c-46ec-8838-870e86fce6b1",
   "metadata": {},
   "outputs": [],
   "source": [
    "wb = Workbook()\n",
    "\n",
    "with open(\"datasets/BodyFat.csv\", \"r\") as input:\n",
    "\n",
    "    with open(\"Even_Records.csv\", \"w\") as output:\n",
    "        ws = wb.active  \n",
    "        for line_number, line in enumerate(input):\n",
    "            if ((line_number+1)%2 == 0):\n",
    "                ws.append(line.split(','))\n",
    "        wb.save('even_records.xlsx')"
   ]
  },
  {
   "cell_type": "code",
   "execution_count": null,
   "id": "224b6af9-6c9c-4a75-967b-93a978b8585c",
   "metadata": {},
   "outputs": [],
   "source": []
  }
 ],
 "metadata": {
  "kernelspec": {
   "display_name": "Python 3 (ipykernel)",
   "language": "python",
   "name": "python3"
  },
  "language_info": {
   "codemirror_mode": {
    "name": "ipython",
    "version": 3
   },
   "file_extension": ".py",
   "mimetype": "text/x-python",
   "name": "python",
   "nbconvert_exporter": "python",
   "pygments_lexer": "ipython3",
   "version": "3.9.12"
  }
 },
 "nbformat": 4,
 "nbformat_minor": 5
}
