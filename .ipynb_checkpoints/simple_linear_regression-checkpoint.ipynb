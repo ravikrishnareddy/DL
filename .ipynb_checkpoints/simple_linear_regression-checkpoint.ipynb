{
 "cells": [
  {
   "cell_type": "code",
   "execution_count": 69,
   "id": "c9bdeb15-5179-4dfa-b4ad-ba5fb10393a9",
   "metadata": {},
   "outputs": [],
   "source": [
    "import numpy as np\n",
    "import pandas as pd\n",
    "import matplotlib.pyplot as plt\n",
    "\n",
    "from sklearn.linear_model import LinearRegression\n",
    "from sklearn.preprocessing import StandardScaler\n",
    "\n",
    "%matplotlib inline"
   ]
  },
  {
   "cell_type": "markdown",
   "id": "78df7e60-1689-4946-95ef-9a8f2a123381",
   "metadata": {
    "tags": []
   },
   "source": [
    "#### Approach 1: Plain mathematical approach of calculating slope and intercept"
   ]
  },
  {
   "cell_type": "markdown",
   "id": "210fc187-79dc-4743-b886-6dd66f8f5066",
   "metadata": {
    "tags": []
   },
   "source": [
    "Mathematical formula to calculate slope and intercept from bivariant data:\n",
    "\n",
    "$$\n",
    "slope = \\frac {n(\\sum xy) - (\\sum x)(\\sum y)} {n(\\sum x^2) - (\\sum x)^2}\n",
    "$$\n",
    "\n",
    "$$\n",
    "intercept = \\frac {\\sum y - slope\\sum x} {n}\n",
    "$$"
   ]
  },
  {
   "cell_type": "code",
   "execution_count": 31,
   "id": "844ecfce-d64a-4491-be7f-216efe5c2255",
   "metadata": {},
   "outputs": [
    {
     "data": {
      "text/html": [
       "<div>\n",
       "<style scoped>\n",
       "    .dataframe tbody tr th:only-of-type {\n",
       "        vertical-align: middle;\n",
       "    }\n",
       "\n",
       "    .dataframe tbody tr th {\n",
       "        vertical-align: top;\n",
       "    }\n",
       "\n",
       "    .dataframe thead th {\n",
       "        text-align: right;\n",
       "    }\n",
       "</style>\n",
       "<table border=\"1\" class=\"dataframe\">\n",
       "  <thead>\n",
       "    <tr style=\"text-align: right;\">\n",
       "      <th></th>\n",
       "      <th>Height(Inches)</th>\n",
       "      <th>Weight(Pounds)</th>\n",
       "    </tr>\n",
       "    <tr>\n",
       "      <th>Index</th>\n",
       "      <th></th>\n",
       "      <th></th>\n",
       "    </tr>\n",
       "  </thead>\n",
       "  <tbody>\n",
       "    <tr>\n",
       "      <th>1</th>\n",
       "      <td>65.78331</td>\n",
       "      <td>112.9925</td>\n",
       "    </tr>\n",
       "    <tr>\n",
       "      <th>2</th>\n",
       "      <td>71.51521</td>\n",
       "      <td>136.4873</td>\n",
       "    </tr>\n",
       "    <tr>\n",
       "      <th>3</th>\n",
       "      <td>69.39874</td>\n",
       "      <td>153.0269</td>\n",
       "    </tr>\n",
       "  </tbody>\n",
       "</table>\n",
       "</div>"
      ],
      "text/plain": [
       "       Height(Inches)  Weight(Pounds)\n",
       "Index                                \n",
       "1            65.78331        112.9925\n",
       "2            71.51521        136.4873\n",
       "3            69.39874        153.0269"
      ]
     },
     "execution_count": 31,
     "metadata": {},
     "output_type": "execute_result"
    }
   ],
   "source": [
    "df_original = pd.read_csv('https://github.com/ravikrishnareddy/DL/blob/main/datasets/SOCR-HeightWeight.csv?raw=true', index_col=0)\n",
    "df_original.head(3)"
   ]
  },
  {
   "cell_type": "code",
   "execution_count": 32,
   "id": "b2f6ab9b-d89f-42d9-9480-a72e741e12aa",
   "metadata": {},
   "outputs": [
    {
     "data": {
      "image/png": "[encoded data removed]",
      "text/plain": [
       "<Figure size 432x288 with 1 Axes>"
      ]
     },
     "metadata": {
      "needs_background": "light"
     },
     "output_type": "display_data"
    }
   ],
   "source": [
    "plt.scatter(x=df_original['Height(Inches)'], y=df_original['Weight(Pounds)'])\n",
    "plt.xlabel('Height(Inches)')\n",
    "plt.ylabel('Weight(Pounds)')\n",
    "plt.show()"
   ]
  },
  {
   "cell_type": "code",
   "execution_count": 52,
   "id": "8a329587-fb96-453e-822d-03a44af0b0fd",
   "metadata": {},
   "outputs": [
    {
     "name": "stdout",
     "output_type": "stream",
     "text": [
      "observations: 25000\n",
      "slope: 3.0834764454016637\n",
      "intercept: -82.57574306445234\n"
     ]
    }
   ],
   "source": [
    "df = df_original.copy()\n",
    "df['XY'] = df['Height(Inches)'] * df['Weight(Pounds)']\n",
    "df['X2'] = df['Weight(Pounds)']**2\n",
    "\n",
    "# total observations\n",
    "n = df.shape[0]\n",
    "\n",
    "# slope of the best fitting line\n",
    "m = ( (n*df['XY'].sum()) - (df['Height(Inches)'].sum()*df['Weight(Pounds)'].sum()) ) / ( (n*((df['Height(Inches)']**2).sum())) - (df['Height(Inches)'].sum()**2) )\n",
    "\n",
    "# y-intercept\n",
    "c = (df['Weight(Pounds)'].sum() - (m*(df['Height(Inches)'].sum())))/n\n",
    "\n",
    "print('observations: {}'.format(n))\n",
    "print('slope: {}'.format(m))\n",
    "print('intercept: {}'.format(c))\n",
    "\n",
    "# Predict weights using heights and the linear equation\n",
    "df['Prediction_1'] = (m * df['Height(Inches)']) + c"
   ]
  },
  {
   "cell_type": "code",
   "execution_count": 53,
   "id": "3ba1da6f-7453-4e6d-8ca3-20f7c4669c75",
   "metadata": {},
   "outputs": [
    {
     "name": "stdout",
     "output_type": "stream",
     "text": [
      "observations: 25000\n",
      "slope: 0.5028585206028442\n",
      "intercept: -4.4108025087401396e-15\n"
     ]
    }
   ],
   "source": [
    "# Check if feature scaling would give us a different slope and intercept\n",
    "\n",
    "scaler = StandardScaler()\n",
    "scaler.fit(df.loc[:,['Height(Inches)','Weight(Pounds)']])\n",
    "df[['Height(Scaled)','Weight(Scaled)']] = scaler.transform(df.loc[:,['Height(Inches)','Weight(Pounds)']])\n",
    "\n",
    "df['XY(Scaled)'] = df['Height(Scaled)'] * df['Weight(Scaled)']\n",
    "df['X2(Scaled)'] = df['Height(Scaled)']**2\n",
    "\n",
    "n = df.shape[0]\n",
    "m = ( (n * (df['XY(Scaled)'].sum())) - (df['Height(Scaled)'].sum() * df['Weight(Scaled)'].sum()) ) / ( (n * (df['Height(Scaled)']**2).sum()) - (df['Height(Scaled)'].sum()**2) )\n",
    "c = (df['Weight(Scaled)'].sum() - (m * (df['Height(Scaled)'].sum())) ) / n\n",
    "\n",
    "print('observations: {}'.format(n))\n",
    "print('slope: {}'.format(m))\n",
    "print('intercept: {}'.format(c))\n",
    "\n",
    "# Predict weights using heights and the linear equation\n",
    "df['Prediction_2'] = (m * df['Height(Scaled)']) + c\n",
    "\n",
    "# De-standardize the predictions\n",
    "y_mean = df['Weight(Pounds)'].mean()\n",
    "y_std = df['Weight(Pounds)'].std()\n",
    "\n",
    "df['Prediction_2'] = (df['Prediction_2'] * y_std) + y_mean\n",
    "\n",
    "# Though feature scaling is giving us different slope and intercept, predictions seems to be very much off from actual values\n",
    "# De-standardizing the predicted numbers using mean and standard deviation of actual response variable is actual matching with the predictions made using original features before scaling"
   ]
  },
  {
   "cell_type": "code",
   "execution_count": 54,
   "id": "3cc8e0aa-549f-4e65-9bba-1355d9571688",
   "metadata": {},
   "outputs": [
    {
     "data": {
      "text/html": [
       "<div>\n",
       "<style scoped>\n",
       "    .dataframe tbody tr th:only-of-type {\n",
       "        vertical-align: middle;\n",
       "    }\n",
       "\n",
       "    .dataframe tbody tr th {\n",
       "        vertical-align: top;\n",
       "    }\n",
       "\n",
       "    .dataframe thead th {\n",
       "        text-align: right;\n",
       "    }\n",
       "</style>\n",
       "<table border=\"1\" class=\"dataframe\">\n",
       "  <thead>\n",
       "    <tr style=\"text-align: right;\">\n",
       "      <th></th>\n",
       "      <th>Height(Inches)</th>\n",
       "      <th>Weight(Pounds)</th>\n",
       "      <th>XY</th>\n",
       "      <th>X2</th>\n",
       "      <th>Prediction_1</th>\n",
       "      <th>Height(Scaled)</th>\n",
       "      <th>Weight(Scaled)</th>\n",
       "      <th>XY(Scaled)</th>\n",
       "      <th>X2(Scaled)</th>\n",
       "      <th>Prediction_2</th>\n",
       "    </tr>\n",
       "    <tr>\n",
       "      <th>Index</th>\n",
       "      <th></th>\n",
       "      <th></th>\n",
       "      <th></th>\n",
       "      <th></th>\n",
       "      <th></th>\n",
       "      <th></th>\n",
       "      <th></th>\n",
       "      <th></th>\n",
       "      <th></th>\n",
       "      <th></th>\n",
       "    </tr>\n",
       "  </thead>\n",
       "  <tbody>\n",
       "    <tr>\n",
       "      <th>1</th>\n",
       "      <td>65.78331</td>\n",
       "      <td>112.9925</td>\n",
       "      <td>7433.020655</td>\n",
       "      <td>12767.305056</td>\n",
       "      <td>120.265544</td>\n",
       "      <td>-1.162051</td>\n",
       "      <td>-1.208072</td>\n",
       "      <td>1.403841</td>\n",
       "      <td>1.350363</td>\n",
       "      <td>120.265408</td>\n",
       "    </tr>\n",
       "    <tr>\n",
       "      <th>2</th>\n",
       "      <td>71.51521</td>\n",
       "      <td>136.4873</td>\n",
       "      <td>9760.917922</td>\n",
       "      <td>18628.783061</td>\n",
       "      <td>137.939722</td>\n",
       "      <td>1.852136</td>\n",
       "      <td>0.806805</td>\n",
       "      <td>1.494312</td>\n",
       "      <td>3.430406</td>\n",
       "      <td>137.939940</td>\n",
       "    </tr>\n",
       "    <tr>\n",
       "      <th>3</th>\n",
       "      <td>69.39874</td>\n",
       "      <td>153.0269</td>\n",
       "      <td>10619.874046</td>\n",
       "      <td>23417.232124</td>\n",
       "      <td>131.413637</td>\n",
       "      <td>0.739165</td>\n",
       "      <td>2.225214</td>\n",
       "      <td>1.644801</td>\n",
       "      <td>0.546365</td>\n",
       "      <td>131.413724</td>\n",
       "    </tr>\n",
       "    <tr>\n",
       "      <th>4</th>\n",
       "      <td>68.21660</td>\n",
       "      <td>142.3354</td>\n",
       "      <td>9709.637048</td>\n",
       "      <td>20259.366093</td>\n",
       "      <td>127.768536</td>\n",
       "      <td>0.117523</td>\n",
       "      <td>1.308328</td>\n",
       "      <td>0.153759</td>\n",
       "      <td>0.013812</td>\n",
       "      <td>127.768550</td>\n",
       "    </tr>\n",
       "    <tr>\n",
       "      <th>5</th>\n",
       "      <td>67.78781</td>\n",
       "      <td>144.2971</td>\n",
       "      <td>9781.584398</td>\n",
       "      <td>20821.653068</td>\n",
       "      <td>126.446372</td>\n",
       "      <td>-0.107961</td>\n",
       "      <td>1.476561</td>\n",
       "      <td>-0.159411</td>\n",
       "      <td>0.011656</td>\n",
       "      <td>126.446360</td>\n",
       "    </tr>\n",
       "  </tbody>\n",
       "</table>\n",
       "</div>"
      ],
      "text/plain": [
       "       Height(Inches)  Weight(Pounds)            XY            X2  \\\n",
       "Index                                                               \n",
       "1            65.78331        112.9925   7433.020655  12767.305056   \n",
       "2            71.51521        136.4873   9760.917922  18628.783061   \n",
       "3            69.39874        153.0269  10619.874046  23417.232124   \n",
       "4            68.21660        142.3354   9709.637048  20259.366093   \n",
       "5            67.78781        144.2971   9781.584398  20821.653068   \n",
       "\n",
       "       Prediction_1  Height(Scaled)  Weight(Scaled)  XY(Scaled)  X2(Scaled)  \\\n",
       "Index                                                                         \n",
       "1        120.265544       -1.162051       -1.208072    1.403841    1.350363   \n",
       "2        137.939722        1.852136        0.806805    1.494312    3.430406   \n",
       "3        131.413637        0.739165        2.225214    1.644801    0.546365   \n",
       "4        127.768536        0.117523        1.308328    0.153759    0.013812   \n",
       "5        126.446372       -0.107961        1.476561   -0.159411    0.011656   \n",
       "\n",
       "       Prediction_2  \n",
       "Index                \n",
       "1        120.265408  \n",
       "2        137.939940  \n",
       "3        131.413724  \n",
       "4        127.768550  \n",
       "5        126.446360  "
      ]
     },
     "execution_count": 54,
     "metadata": {},
     "output_type": "execute_result"
    }
   ],
   "source": [
    "df.head()"
   ]
  },
  {
   "cell_type": "code",
   "execution_count": 63,
   "id": "611604ba-ddd6-47fd-9e8f-e67789e3b85e",
   "metadata": {},
   "outputs": [
    {
     "data": {
      "image/png": "[encoded data removed]",
      "text/plain": [
       "<Figure size 432x288 with 1 Axes>"
      ]
     },
     "metadata": {
      "needs_background": "light"
     },
     "output_type": "display_data"
    }
   ],
   "source": [
    "plt.scatter(x=df_original['Height(Inches)'], y=df_original['Weight(Pounds)'])\n",
    "plt.xlabel('Height(Inches)')\n",
    "plt.ylabel('Weight(Pounds)')\n",
    "plt.scatter(x=df['Height(Inches)'], y=df['Prediction_1'], c='red')\n",
    "# plt.scatter(x=df['Height(Inches)'], y=df['Prediction_2'], c='green')\n",
    "plt.show()"
   ]
  },
  {
   "cell_type": "markdown",
   "id": "f88f8db3-8237-4ff7-8a2e-3e918d11b459",
   "metadata": {},
   "source": [
    "Did not find any difference between before and after scaling."
   ]
  },
  {
   "cell_type": "code",
   "execution_count": 75,
   "id": "a0313149-f237-42ea-9e8e-27ec689afc4f",
   "metadata": {},
   "outputs": [
    {
     "name": "stdout",
     "output_type": "stream",
     "text": [
      "RMSE: 10.079113675632804\n"
     ]
    }
   ],
   "source": [
    "# Calculate the cost using root mean squared error\n",
    "\n",
    "rmse = np.sqrt(np.mean((df['Weight(Pounds)'] - df['Prediction_1'])**2))\n",
    "print('RMSE: {}'.format(rmse))"
   ]
  },
  {
   "cell_type": "code",
   "execution_count": 78,
   "id": "a922c21c-336b-4dd9-b6f2-4c4ae6d71c28",
   "metadata": {},
   "outputs": [
    {
     "name": "stdout",
     "output_type": "stream",
     "text": [
      "slope: 3.0834764454029626\n",
      "y-intercept: -82.57574306454065\n",
      "RMSE: 10.079113675632804\n"
     ]
    }
   ],
   "source": [
    "linear_regression_model = LinearRegression()\n",
    "linear_regression_model.fit(df['Height(Inches)'].values.reshape(-1,1), df['Weight(Pounds)'])\n",
    "\n",
    "m = linear_regression_model.coef_[0]\n",
    "c = linear_regression_model.intercept_\n",
    "print('slope: {}'.format(m))\n",
    "print('y-intercept: {}'.format(c))\n",
    "\n",
    "df['Prediction_3'] = m * df['Height(Inches)'] + c\n",
    "\n",
    "rmse = np.sqrt(np.mean((df['Weight(Pounds)'] - df['Prediction_3'])**2))\n",
    "print('RMSE: {}'.format(rmse))"
   ]
  },
  {
   "cell_type": "code",
   "execution_count": null,
   "id": "77523634-43fe-4a57-8e1d-bb333652af28",
   "metadata": {},
   "outputs": [],
   "source": []
  }
 ],
 "metadata": {
  "kernelspec": {
   "display_name": "Python 3 (ipykernel)",
   "language": "python",
   "name": "python3"
  },
  "language_info": {
   "codemirror_mode": {
    "name": "ipython",
    "version": 3
   },
   "file_extension": ".py",
   "mimetype": "text/x-python",
   "name": "python",
   "nbconvert_exporter": "python",
   "pygments_lexer": "ipython3",
   "version": "3.9.12"
  }
 },
 "nbformat": 4,
 "nbformat_minor": 5
}
