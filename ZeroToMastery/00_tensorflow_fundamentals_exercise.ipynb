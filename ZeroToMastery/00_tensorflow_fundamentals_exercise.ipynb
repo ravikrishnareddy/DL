{
  "nbformat": 4,
  "nbformat_minor": 0,
  "metadata": {
    "colab": {
      "name": "00_tensorflow_fundamentals_exercise.ipynb",
      "provenance": [],
      "authorship_tag": "ABX9TyOqlK6dkoUgZweqaK5fhuMd",
      "include_colab_link": true
    },
    "kernelspec": {
      "name": "python3",
      "display_name": "Python 3"
    },
    "language_info": {
      "name": "python"
    }
  },
  "cells": [
    {
      "cell_type": "markdown",
      "metadata": {
        "id": "view-in-github",
        "colab_type": "text"
      },
      "source": [
        "<a href=\"https://colab.research.google.com/github/ravikrishnareddy/deep_learning/blob/main/ZeroToMastery/00_tensorflow_fundamentals_exercise.ipynb\" target=\"_parent\"><img src=\"https://colab.research.google.com/assets/colab-badge.svg\" alt=\"Open In Colab\"/></a>"
      ]
    },
    {
      "cell_type": "code",
      "execution_count": 1,
      "metadata": {
        "id": "jjp3PlBZqUL-"
      },
      "outputs": [],
      "source": [
        "import numpy as np\n",
        "import tensorflow as tf"
      ]
    },
    {
      "cell_type": "code",
      "source": [
        "# Create a vector, scalar, matrix and tensor with values of your choosing using tf.constant()\n",
        "\n",
        "s = tf.constant(3)\n",
        "print('scalar: ', s)\n",
        "print(type(s))\n",
        "print(s.ndim)\n",
        "print('')\n",
        "\n",
        "v = tf.constant([7, 10])\n",
        "print('vector: ', v)\n",
        "print(type(v))\n",
        "print(v.ndim)\n",
        "print('')\n",
        "\n",
        "m = tf.constant([[2, 3], \n",
        "                 [7, 10]])\n",
        "print('matrix: ', m)\n",
        "print(type(m))\n",
        "print(m.ndim)\n",
        "print('')\n",
        "\n",
        "t = tf.constant([[[1, 2, 3], \n",
        "                  [4, 5, 6], \n",
        "                  [7, 8, 9]]])\n",
        "print('tensor: ', t)\n",
        "print(type(t))\n",
        "print(t.ndim)\n",
        "print('')"
      ],
      "metadata": {
        "colab": {
          "base_uri": "https://localhost:8080/"
        },
        "id": "KGnYQZEmtO4P",
        "outputId": "87109f26-2cd4-4e5c-f8c1-9f3f6c309b64"
      },
      "execution_count": 4,
      "outputs": [
        {
          "output_type": "stream",
          "name": "stdout",
          "text": [
            "scalar:  tf.Tensor(3, shape=(), dtype=int32)\n",
            "<class 'tensorflow.python.framework.ops.EagerTensor'>\n",
            "0\n",
            "\n",
            "vector:  tf.Tensor([ 7 10], shape=(2,), dtype=int32)\n",
            "<class 'tensorflow.python.framework.ops.EagerTensor'>\n",
            "1\n",
            "\n",
            "matrix:  tf.Tensor(\n",
            "[[ 2  3]\n",
            " [ 7 10]], shape=(2, 2), dtype=int32)\n",
            "<class 'tensorflow.python.framework.ops.EagerTensor'>\n",
            "2\n",
            "\n",
            "tensor:  tf.Tensor(\n",
            "[[[1 2 3]\n",
            "  [4 5 6]\n",
            "  [7 8 9]]], shape=(1, 3, 3), dtype=int32)\n",
            "<class 'tensorflow.python.framework.ops.EagerTensor'>\n",
            "3\n",
            "\n"
          ]
        }
      ]
    },
    {
      "cell_type": "code",
      "source": [
        "# Find the shape, rank and size of the tensors you created in 1\n",
        "print('shape: ', t.shape)\n",
        "print('rank: ', tf.rank(t).numpy())\n",
        "print('size: ', tf.size(t).numpy())"
      ],
      "metadata": {
        "colab": {
          "base_uri": "https://localhost:8080/"
        },
        "id": "JkApNu73tyg7",
        "outputId": "327a4601-6e7f-4e2f-f707-4974c2048e6b"
      },
      "execution_count": 10,
      "outputs": [
        {
          "output_type": "stream",
          "name": "stdout",
          "text": [
            "shape:  (1, 3, 3)\n",
            "rank:  3\n",
            "size:  9\n"
          ]
        }
      ]
    },
    {
      "cell_type": "code",
      "source": [
        "# Create two tensors containing random values between 0 and 1 with shape [5, 300]\n",
        "tensor_1 = tf.constant(tf.random.stateless_uniform(shape=[5, 300], seed=(0, 1), minval=0, maxval=1))\n",
        "print(tensor_1)\n",
        "print('')\n",
        "tensor_2 = tf.constant(tf.random.stateless_uniform(shape=[5, 300], seed=(0, 2), minval=0, maxval=1))\n",
        "print(tensor_2)"
      ],
      "metadata": {
        "colab": {
          "base_uri": "https://localhost:8080/"
        },
        "id": "2HN-WJzg2WiJ",
        "outputId": "4372350f-a1b5-462c-978d-c82ed84bf935"
      },
      "execution_count": 16,
      "outputs": [
        {
          "output_type": "stream",
          "name": "stdout",
          "text": [
            "tf.Tensor(\n",
            "[[0.08216608 0.40928006 0.39318466 ... 0.39660907 0.4784795  0.91761565]\n",
            " [0.01828551 0.44946778 0.92918336 ... 0.6696019  0.86210024 0.8076656 ]\n",
            " [0.4117663  0.770141   0.33105493 ... 0.6711476  0.85589325 0.93851113]\n",
            " [0.21303272 0.44056177 0.7896323  ... 0.8288938  0.21916342 0.956254  ]\n",
            " [0.9305494  0.5015509  0.8514749  ... 0.02131653 0.5989225  0.5082902 ]], shape=(5, 300), dtype=float32)\n",
            "\n",
            "tf.Tensor(\n",
            "[[0.38320196 0.6836976  0.84488106 ... 0.93043756 0.1856631  0.57123184]\n",
            " [0.27986813 0.78495836 0.8809737  ... 0.80925286 0.44890392 0.6020223 ]\n",
            " [0.3728615  0.8101733  0.7210413  ... 0.30136347 0.5237329  0.5810863 ]\n",
            " [0.8001467  0.41929376 0.5334585  ... 0.7891644  0.17133951 0.7901368 ]\n",
            " [0.61018944 0.36475742 0.94783676 ... 0.45684135 0.37415504 0.6884068 ]], shape=(5, 300), dtype=float32)\n"
          ]
        }
      ]
    },
    {
      "cell_type": "code",
      "source": [
        "# Multiply the two tensors you created in 3 using matrix multiplication.\n",
        "tensor_1_2_matmul = tf.matmul(tensor_1, tf.transpose(tensor_2))\n",
        "print(tensor_1_2_matmul)"
      ],
      "metadata": {
        "colab": {
          "base_uri": "https://localhost:8080/"
        },
        "id": "e5gFcH0283s3",
        "outputId": "bee974ac-e7b4-4fa2-82b6-e4fa6332c94c"
      },
      "execution_count": 18,
      "outputs": [
        {
          "output_type": "stream",
          "name": "stdout",
          "text": [
            "tf.Tensor(\n",
            "[[73.960434 80.24075  79.02925  76.175735 75.76964 ]\n",
            " [72.01323  77.32151  77.78919  70.23007  75.89364 ]\n",
            " [76.39591  79.785065 76.76315  75.97728  75.999176]\n",
            " [73.707405 79.501724 78.87918  73.24406  78.50473 ]\n",
            " [77.59998  81.472786 81.44474  76.17197  80.63745 ]], shape=(5, 5), dtype=float32)\n"
          ]
        }
      ]
    },
    {
      "cell_type": "code",
      "source": [
        "# Multiply the two tensors you created in 3 using dot product.\n",
        "tensor_1_2_dot = tf.tensordot(tensor_1, tf.transpose(tensor_2), axes=1)\n",
        "print(tensor_1_2_dot)"
      ],
      "metadata": {
        "colab": {
          "base_uri": "https://localhost:8080/"
        },
        "id": "B52KX9PU6Jh0",
        "outputId": "f1b4a396-53b8-4a21-b172-945a95681eec"
      },
      "execution_count": 21,
      "outputs": [
        {
          "output_type": "stream",
          "name": "stdout",
          "text": [
            "tf.Tensor(\n",
            "[[73.960434 80.24075  79.02925  76.175735 75.76964 ]\n",
            " [72.01323  77.32151  77.78919  70.23007  75.89364 ]\n",
            " [76.39591  79.785065 76.76315  75.97728  75.999176]\n",
            " [73.707405 79.501724 78.87918  73.24406  78.50473 ]\n",
            " [77.59998  81.472786 81.44474  76.17197  80.63745 ]], shape=(5, 5), dtype=float32)\n"
          ]
        }
      ]
    },
    {
      "cell_type": "code",
      "source": [
        "# Create a tensor with random values between 0 and 1 with shape [224, 224, 3].\n",
        "tensor_3 = tf.random.stateless_uniform(shape=[224, 224, 3], seed=(0, 1), minval=0, maxval=1)\n",
        "print(tensor_3)"
      ],
      "metadata": {
        "colab": {
          "base_uri": "https://localhost:8080/"
        },
        "id": "rkPBmu_s67i_",
        "outputId": "dd3b467a-a2e8-4cee-a1d6-cacba04eb36a"
      },
      "execution_count": 22,
      "outputs": [
        {
          "output_type": "stream",
          "name": "stdout",
          "text": [
            "tf.Tensor(\n",
            "[[[0.08216608 0.40928006 0.39318466]\n",
            "  [0.3162533  0.34717774 0.73199546]\n",
            "  [0.56369007 0.9769211  0.55243933]\n",
            "  ...\n",
            "  [0.9238517  0.74884343 0.27838945]\n",
            "  [0.79498756 0.44773757 0.5954931 ]\n",
            "  [0.774982   0.18768477 0.36871493]]\n",
            "\n",
            " [[0.39124548 0.52653253 0.98199475]\n",
            "  [0.9022242  0.98764503 0.86433923]\n",
            "  [0.19658887 0.7567464  0.34634674]\n",
            "  ...\n",
            "  [0.5774715  0.791064   0.853372  ]\n",
            "  [0.9585072  0.24212122 0.4072547 ]\n",
            "  [0.896675   0.48084855 0.16755211]]\n",
            "\n",
            " [[0.08823133 0.02116656 0.4411217 ]\n",
            "  [0.5371903  0.6499002  0.96041346]\n",
            "  [0.28728902 0.3055538  0.02413893]\n",
            "  ...\n",
            "  [0.5683601  0.6161053  0.15821028]\n",
            "  [0.6293392  0.66284    0.677814  ]\n",
            "  [0.5619303  0.65048957 0.11560786]]\n",
            "\n",
            " ...\n",
            "\n",
            " [[0.17193723 0.16156793 0.53142476]\n",
            "  [0.0595243  0.7454133  0.89403033]\n",
            "  [0.57041407 0.45257127 0.46690834]\n",
            "  ...\n",
            "  [0.08229828 0.38555872 0.5923791 ]\n",
            "  [0.07422912 0.6231595  0.93623257]\n",
            "  [0.58755994 0.9076154  0.9154035 ]]\n",
            "\n",
            " [[0.14526987 0.59365416 0.33990538]\n",
            "  [0.7642752  0.86882246 0.42622375]\n",
            "  [0.8556467  0.14198554 0.43001294]\n",
            "  ...\n",
            "  [0.11558104 0.04741645 0.37214148]\n",
            "  [0.08603048 0.91129804 0.5583501 ]\n",
            "  [0.59086144 0.12823427 0.84386337]]\n",
            "\n",
            " [[0.40964866 0.7881862  0.05054498]\n",
            "  [0.2633909  0.6241405  0.8029907 ]\n",
            "  [0.7800689  0.09018409 0.29444444]\n",
            "  ...\n",
            "  [0.57649815 0.41165912 0.5308294 ]\n",
            "  [0.77826846 0.7363155  0.38334107]\n",
            "  [0.32815373 0.7696817  0.46325564]]], shape=(224, 224, 3), dtype=float32)\n"
          ]
        }
      ]
    },
    {
      "cell_type": "code",
      "source": [
        "# Find the min and max values of the tensor you created in 6 along the first axis.\n",
        "print('Min:', tf.reduce_min(tensor_3[:,0,0]).numpy())\n",
        "print('Max:', tf.reduce_max(tensor_3[:,0,0]).numpy())"
      ],
      "metadata": {
        "colab": {
          "base_uri": "https://localhost:8080/"
        },
        "id": "xXExXTfr7_lE",
        "outputId": "134f82c5-5dd6-4d39-f5be-8b40a164b610"
      },
      "execution_count": 28,
      "outputs": [
        {
          "output_type": "stream",
          "name": "stdout",
          "text": [
            "Min: 0.0019071102\n",
            "Max: 0.998603\n"
          ]
        }
      ]
    },
    {
      "cell_type": "code",
      "source": [
        "# Created a tensor with random values of shape [1, 224, 224, 3] then squeeze it to change the shape to [224, 224, 3].\n",
        "tensor_4 = tf.random.uniform(shape=[1, 224, 224, 3])\n",
        "tensor_4_squeezed = tf.squeeze(tensor_4, axis=0)\n",
        "print(tensor_4_squeezed.shape)"
      ],
      "metadata": {
        "colab": {
          "base_uri": "https://localhost:8080/"
        },
        "id": "cCojyjaH9ow4",
        "outputId": "c3b42a86-12c6-4331-bbf5-a73bc5d936b2"
      },
      "execution_count": 30,
      "outputs": [
        {
          "output_type": "stream",
          "name": "stdout",
          "text": [
            "(224, 224, 3)\n"
          ]
        }
      ]
    },
    {
      "cell_type": "code",
      "source": [
        "# Create a tensor with shape [10] using your own choice of values, then find the index which has the maximum value.\n",
        "tensor_5 = tf.random.uniform(shape=[10])\n",
        "print('Tensor Data: ', tensor_5.numpy())\n",
        "print('')\n",
        "print('Index with max value: ', tf.argmax(tensor_5).numpy())\n",
        "print('')\n",
        "print('Max value: ', tensor_5[tf.argmax(tensor_5)].numpy())"
      ],
      "metadata": {
        "colab": {
          "base_uri": "https://localhost:8080/"
        },
        "id": "0AQadE0uDSZY",
        "outputId": "f8ff5f6c-20d5-4b46-880b-c6ac7c28527f"
      },
      "execution_count": 3,
      "outputs": [
        {
          "output_type": "stream",
          "name": "stdout",
          "text": [
            "Tensor Data:  [0.74159765 0.4844247  0.9006101  0.17725158 0.8760228  0.804616\n",
            " 0.37453854 0.14813292 0.96616805 0.28262496]\n",
            "\n",
            "Index with max value:  8\n",
            "\n",
            "Max value:  0.96616805\n"
          ]
        }
      ]
    },
    {
      "cell_type": "code",
      "source": [
        "# One-hot encode the tensor you created in 9.\n",
        "print(tensor_5.numpy())\n",
        "print('')\n",
        "tf.one_hot(tf.cast(tensor_5, dtype=tf.int32), depth=10)"
      ],
      "metadata": {
        "colab": {
          "base_uri": "https://localhost:8080/"
        },
        "id": "7xzbiDv_EO1j",
        "outputId": "f06708e6-e473-41d2-b940-2e1225f6d0ef"
      },
      "execution_count": 8,
      "outputs": [
        {
          "output_type": "stream",
          "name": "stdout",
          "text": [
            "[0.74159765 0.4844247  0.9006101  0.17725158 0.8760228  0.804616\n",
            " 0.37453854 0.14813292 0.96616805 0.28262496]\n",
            "\n"
          ]
        },
        {
          "output_type": "execute_result",
          "data": {
            "text/plain": [
              "<tf.Tensor: shape=(10, 10), dtype=float32, numpy=\n",
              "array([[1., 0., 0., 0., 0., 0., 0., 0., 0., 0.],\n",
              "       [1., 0., 0., 0., 0., 0., 0., 0., 0., 0.],\n",
              "       [1., 0., 0., 0., 0., 0., 0., 0., 0., 0.],\n",
              "       [1., 0., 0., 0., 0., 0., 0., 0., 0., 0.],\n",
              "       [1., 0., 0., 0., 0., 0., 0., 0., 0., 0.],\n",
              "       [1., 0., 0., 0., 0., 0., 0., 0., 0., 0.],\n",
              "       [1., 0., 0., 0., 0., 0., 0., 0., 0., 0.],\n",
              "       [1., 0., 0., 0., 0., 0., 0., 0., 0., 0.],\n",
              "       [1., 0., 0., 0., 0., 0., 0., 0., 0., 0.],\n",
              "       [1., 0., 0., 0., 0., 0., 0., 0., 0., 0.]], dtype=float32)>"
            ]
          },
          "metadata": {},
          "execution_count": 8
        }
      ]
    },
    {
      "cell_type": "code",
      "source": [
        "# Try to create a series of tensor functions to calculate your most recent grocery bill (it's okay if you don't use the names of the items, just the price in numerical form).\n",
        "# How would you calculate your grocery bill for the month and for the year using tensors?\n",
        "tensor_grocery_bill = tf.constant([[2201, 45], \n",
        "                                   [2202, 83], \n",
        "                                   [2203, 74], \n",
        "                                   [2204, 47], \n",
        "                                   [2205, 23], \n",
        "                                   [2206, 30], \n",
        "                                   [2207, 43]])\n",
        "print(tensor_grocery_bill.numpy())\n",
        "print('')\n",
        "recent_month_year_position = tf.argmax(tensor_grocery_bill[:,0])\n",
        "print('Most recent grocery bill: ', tensor_grocery_bill[:,1][recent_month_year_position].numpy())"
      ],
      "metadata": {
        "colab": {
          "base_uri": "https://localhost:8080/"
        },
        "id": "fQZg5CuG4atc",
        "outputId": "234bf37d-4e63-4c74-f3c4-e33bb2908a1b"
      },
      "execution_count": 14,
      "outputs": [
        {
          "output_type": "stream",
          "name": "stdout",
          "text": [
            "[[2201   45]\n",
            " [2202   83]\n",
            " [2203   74]\n",
            " [2204   47]\n",
            " [2205   23]\n",
            " [2206   30]\n",
            " [2207   43]]\n",
            "\n",
            "Most recent grocery bill:  43\n"
          ]
        }
      ]
    },
    {
      "cell_type": "code",
      "source": [
        ""
      ],
      "metadata": {
        "id": "tOyeVQC4RJ9V"
      },
      "execution_count": null,
      "outputs": []
    }
  ]
}