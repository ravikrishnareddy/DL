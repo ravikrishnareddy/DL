{
 "cells": [
  {
   "cell_type": "code",
   "execution_count": 1,
   "id": "f61ed2d4-8cdd-4bd6-a3fd-470556d6b661",
   "metadata": {},
   "outputs": [],
   "source": [
    "import numpy as np"
   ]
  },
  {
   "cell_type": "code",
   "execution_count": 2,
   "id": "051baba4-13a1-4a16-8131-8d8e65bfbf24",
   "metadata": {},
   "outputs": [],
   "source": [
    "a1 = np.array([\n",
    "    [[1,2,3],\n",
    "     [4,5,6],\n",
    "     [7,8,9]],\n",
    "    [[10,11,12],\n",
    "     [13,14,15],\n",
    "     [16,17,18]]\n",
    "])"
   ]
  },
  {
   "cell_type": "code",
   "execution_count": 3,
   "id": "d370bd61-9422-4dfb-b3c9-cefc9b2104e4",
   "metadata": {},
   "outputs": [
    {
     "data": {
      "text/plain": [
       "array([[[ 1,  2,  3],\n",
       "        [ 4,  5,  6],\n",
       "        [ 7,  8,  9]],\n",
       "\n",
       "       [[10, 11, 12],\n",
       "        [13, 14, 15],\n",
       "        [16, 17, 18]]])"
      ]
     },
     "execution_count": 3,
     "metadata": {},
     "output_type": "execute_result"
    }
   ],
   "source": [
    "a1"
   ]
  },
  {
   "cell_type": "code",
   "execution_count": 7,
   "id": "34bd4932-451c-49ab-89f9-2cda3dd9c162",
   "metadata": {},
   "outputs": [
    {
     "data": {
      "text/plain": [
       "(2, 3, 3)"
      ]
     },
     "execution_count": 7,
     "metadata": {},
     "output_type": "execute_result"
    }
   ],
   "source": [
    "a1.shape"
   ]
  },
  {
   "cell_type": "code",
   "execution_count": 12,
   "id": "b7b15841-1199-45d7-b282-04d692472e68",
   "metadata": {},
   "outputs": [],
   "source": [
    "a2 = np.array([\n",
    "    [1,2,3],\n",
    "    [4,5,6]\n",
    "])"
   ]
  },
  {
   "cell_type": "code",
   "execution_count": 13,
   "id": "7e04ec48-2ba8-4206-9af5-440e9543496a",
   "metadata": {},
   "outputs": [
    {
     "data": {
      "text/plain": [
       "(2, 3)"
      ]
     },
     "execution_count": 13,
     "metadata": {},
     "output_type": "execute_result"
    }
   ],
   "source": [
    "a2.shape"
   ]
  },
  {
   "cell_type": "code",
   "execution_count": 14,
   "id": "c5c7ba44-f803-4b58-a9b0-6d117b023f40",
   "metadata": {},
   "outputs": [
    {
     "data": {
      "text/plain": [
       "3"
      ]
     },
     "execution_count": 14,
     "metadata": {},
     "output_type": "execute_result"
    }
   ],
   "source": [
    "a1.ndim"
   ]
  },
  {
   "cell_type": "code",
   "execution_count": 15,
   "id": "eec17b52-d83c-4cf7-8396-6896eb7f4c02",
   "metadata": {},
   "outputs": [
    {
     "data": {
      "text/plain": [
       "2"
      ]
     },
     "execution_count": 15,
     "metadata": {},
     "output_type": "execute_result"
    }
   ],
   "source": [
    "a2.ndim"
   ]
  },
  {
   "cell_type": "code",
   "execution_count": 17,
   "id": "94ff0fd0-a84b-41c1-81c9-88fe12c245b8",
   "metadata": {},
   "outputs": [
    {
     "name": "stdout",
     "output_type": "stream",
     "text": [
      "26.2 ms ± 2.89 ms per loop (mean ± std. dev. of 7 runs, 10 loops each)\n",
      "147 µs ± 13.2 µs per loop (mean ± std. dev. of 7 runs, 10,000 loops each)\n"
     ]
    }
   ],
   "source": [
    "# Check the performance speed of a python and numpy functions\n",
    "numpy_array = np.random.random(100000)\n",
    "\n",
    "%timeit sum(numpy_array)\n",
    "%timeit np.sum(numpy_array)"
   ]
  },
  {
   "cell_type": "code",
   "execution_count": 18,
   "id": "e834fd63-7b3b-411d-893b-66df43125d14",
   "metadata": {},
   "outputs": [
    {
     "data": {
      "text/plain": [
       "178.2312925170068"
      ]
     },
     "execution_count": 18,
     "metadata": {},
     "output_type": "execute_result"
    }
   ],
   "source": [
    "26200 / 147"
   ]
  },
  {
   "cell_type": "code",
   "execution_count": 20,
   "id": "62dccc25-9562-4b3d-8713-f5fd12cb470c",
   "metadata": {},
   "outputs": [
    {
     "name": "stdout",
     "output_type": "stream",
     "text": [
      "0.2886567325586009\n",
      "0.2886567325586009\n"
     ]
    }
   ],
   "source": [
    "print(np.std(numpy_array))\n",
    "print(np.sqrt(np.var(numpy_array)))"
   ]
  },
  {
   "cell_type": "code",
   "execution_count": 25,
   "id": "08251858-78ee-45a9-ba56-f3264064ab53",
   "metadata": {},
   "outputs": [
    {
     "name": "stdout",
     "output_type": "stream",
     "text": [
      "[[13  8 17]\n",
      " [ 7 11 10]\n",
      " [10  7 18]\n",
      " [19  1  5]\n",
      " [16 19  5]]\n",
      "\n",
      "[[11]\n",
      " [ 9]\n",
      " [ 0]]\n"
     ]
    }
   ],
   "source": [
    "butter_sales = np.random.randint(20, size=(5,3))\n",
    "butter_prices = np.random.randint(12, size=(3,1))\n",
    "\n",
    "print(butter_sales,end='\\n\\n')\n",
    "print(butter_prices)"
   ]
  },
  {
   "cell_type": "code",
   "execution_count": 27,
   "id": "b43264df-6244-40ee-a5af-e146987252f9",
   "metadata": {},
   "outputs": [
    {
     "data": {
      "text/plain": [
       "array([[215],\n",
       "       [176],\n",
       "       [173],\n",
       "       [218],\n",
       "       [347]])"
      ]
     },
     "execution_count": 27,
     "metadata": {},
     "output_type": "execute_result"
    }
   ],
   "source": [
    "np.dot(butter_sales, butter_prices)"
   ]
  },
  {
   "cell_type": "code",
   "execution_count": null,
   "id": "51cb9931-98fd-4987-81b9-b342f816252d",
   "metadata": {},
   "outputs": [],
   "source": []
  }
 ],
 "metadata": {
  "kernelspec": {
   "display_name": "Python 3 (ipykernel)",
   "language": "python",
   "name": "python3"
  },
  "language_info": {
   "codemirror_mode": {
    "name": "ipython",
    "version": 3
   },
   "file_extension": ".py",
   "mimetype": "text/x-python",
   "name": "python",
   "nbconvert_exporter": "python",
   "pygments_lexer": "ipython3",
   "version": "3.9.12"
  }
 },
 "nbformat": 4,
 "nbformat_minor": 5
}
