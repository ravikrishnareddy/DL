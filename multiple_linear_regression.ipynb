{
 "cells": [
  {
   "cell_type": "markdown",
   "id": "96ac7227-96af-4af7-adb4-758d047b5110",
   "metadata": {},
   "source": [
    "### Multiple linear regression by hand vs sklearn"
   ]
  },
  {
   "cell_type": "code",
   "execution_count": 2,
   "id": "ebf2f9b0-c20c-4d6e-9af5-d3336ee4f3a5",
   "metadata": {},
   "outputs": [],
   "source": [
    "import numpy as np\n",
    "import pandas as pd\n",
    "import matplotlib.pyplot as plt\n",
    "\n",
    "from sklearn.linear_model import LinearRegression\n",
    "\n",
    "%matplotlib inline"
   ]
  },
  {
   "cell_type": "code",
   "execution_count": null,
   "id": "642d0150-efe9-44a8-8c14-7e19fdf8b4cf",
   "metadata": {},
   "outputs": [],
   "source": []
  }
 ],
 "metadata": {
  "kernelspec": {
   "display_name": "Python 3 (ipykernel)",
   "language": "python",
   "name": "python3"
  },
  "language_info": {
   "codemirror_mode": {
    "name": "ipython",
    "version": 3
   },
   "file_extension": ".py",
   "mimetype": "text/x-python",
   "name": "python",
   "nbconvert_exporter": "python",
   "pygments_lexer": "ipython3",
   "version": "3.9.12"
  }
 },
 "nbformat": 4,
 "nbformat_minor": 5
}
