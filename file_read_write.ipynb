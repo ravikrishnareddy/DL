{
 "cells": [
  {
   "cell_type": "code",
   "execution_count": 26,
   "id": "5a62c420-9a0c-46ec-8838-870e86fce6b1",
   "metadata": {},
   "outputs": [],
   "source": [
    "from openpyxl import Workbook\n",
    "\n",
    "wb = Workbook()\n",
    "\n",
    "with open(\"datasets/BodyFat.csv\", \"r\") as input:\n",
    "\n",
    "    with open(\"Even_Records.csv\", \"w\") as output:\n",
    "        \n",
    "        ws = wb.active  \n",
    "        for line_number, line in enumerate(input):\n",
    "\n",
    "            if ((line_number==0) or (line_number%2 == 0)):\n",
    "                ws.append(line.split(','))\n",
    "        wb.save('even_records.xlsx')"
   ]
  },
  {
   "cell_type": "code",
   "execution_count": 30,
   "id": "224b6af9-6c9c-4a75-967b-93a978b8585c",
   "metadata": {},
   "outputs": [],
   "source": [
    "var = 'hiravi'"
   ]
  },
  {
   "cell_type": "code",
   "execution_count": 35,
   "id": "f0bf4668-400d-44ce-8285-58c50123fba3",
   "metadata": {},
   "outputs": [],
   "source": [
    "dummy_list = []\n",
    "dummy_list.append(var)"
   ]
  },
  {
   "cell_type": "code",
   "execution_count": 37,
   "id": "437d4640-fcc5-48a5-ae4b-7cd2dced4fd1",
   "metadata": {},
   "outputs": [
    {
     "data": {
      "text/plain": [
       "['hiravi']"
      ]
     },
     "execution_count": 37,
     "metadata": {},
     "output_type": "execute_result"
    }
   ],
   "source": [
    "dummy_list"
   ]
  },
  {
   "cell_type": "code",
   "execution_count": null,
   "id": "028bfeda-7171-42b8-899f-ba47912f66a7",
   "metadata": {},
   "outputs": [],
   "source": []
  }
 ],
 "metadata": {
  "kernelspec": {
   "display_name": "Python 3 (ipykernel)",
   "language": "python",
   "name": "python3"
  },
  "language_info": {
   "codemirror_mode": {
    "name": "ipython",
    "version": 3
   },
   "file_extension": ".py",
   "mimetype": "text/x-python",
   "name": "python",
   "nbconvert_exporter": "python",
   "pygments_lexer": "ipython3",
   "version": "3.9.12"
  }
 },
 "nbformat": 4,
 "nbformat_minor": 5
}
