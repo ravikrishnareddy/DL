{
 "cells": [
  {
   "cell_type": "code",
   "execution_count": null,
   "id": "c9bdeb15-5179-4dfa-b4ad-ba5fb10393a9",
   "metadata": {},
   "outputs": [],
   "source": []
  },
  {
   "cell_type": "markdown",
   "id": "210fc187-79dc-4743-b886-6dd66f8f5066",
   "metadata": {
    "tags": []
   },
   "source": [
    "Mathematical formula to calculate slope and intercept from bivariant data:\n",
    "\n",
    "$$\n",
    "slope = \\frac {n(\\sum xy) - (\\sum x)(\\sum y)} {n(\\sum x^2) - (\\sum x)^2}\n",
    "$$\n",
    "\n",
    "$$\n",
    "intercept = \\frac {\\sum y - slope\\sum x} {n}\n",
    "$$"
   ]
  },
  {
   "cell_type": "code",
   "execution_count": null,
   "id": "844ecfce-d64a-4491-be7f-216efe5c2255",
   "metadata": {},
   "outputs": [],
   "source": []
  }
 ],
 "metadata": {
  "kernelspec": {
   "display_name": "Python 3 (ipykernel)",
   "language": "python",
   "name": "python3"
  },
  "language_info": {
   "codemirror_mode": {
    "name": "ipython",
    "version": 3
   },
   "file_extension": ".py",
   "mimetype": "text/x-python",
   "name": "python",
   "nbconvert_exporter": "python",
   "pygments_lexer": "ipython3",
   "version": "3.9.12"
  }
 },
 "nbformat": 4,
 "nbformat_minor": 5
}
